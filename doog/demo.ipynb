{
 "cells": [
  {
   "metadata": {
    "ExecuteTime": {
     "end_time": "2024-10-16T06:14:38.611640Z",
     "start_time": "2024-10-16T06:14:38.609292Z"
    }
   },
   "cell_type": "code",
   "source": "from uti.make_parals import * ",
   "id": "e93fec614708a2ba",
   "outputs": [],
   "execution_count": 10
  },
  {
   "metadata": {
    "ExecuteTime": {
     "end_time": "2024-10-16T06:14:55.221523Z",
     "start_time": "2024-10-16T06:14:55.195328Z"
    }
   },
   "cell_type": "code",
   "source": [
    "device = 'mps'\n",
    "\n",
    "model = nn.Sequential(\n",
    "    nn.Conv2d(3, 128, 4, 2, 1),\n",
    "    nn.BatchNorm2d(128),\n",
    "    nn.PReLU(),\n",
    "    nn.Conv2d(128, 6, 4, 2, 1),\n",
    "    nn.BatchNorm2d(6),\n",
    "    nn.LeakyReLU(),\n",
    ").to(device)\n",
    "\n",
    "dat = torch.randint(0, 10, (1, 3, 10, 10))\n",
    "models, data = chanpanzee(model, dat, (2, 1), False, [device, 'cpu'])\n",
    "\n",
    "model_I, model_II = models[0], models[1]\n",
    "data_I, data_II = data[0], data[1]\n",
    "\n",
    "print(model_II, data_II.shape)  "
   ],
   "id": "8ca156eb43951018",
   "outputs": [
    {
     "name": "stdout",
     "output_type": "stream",
     "text": [
      "You might need to adjust the data type of weights or data\n",
      "Chanpanmod(\n",
      "  (layers): Sequential(\n",
      "    (0): Conv2d(1, 42, kernel_size=(4, 4), stride=(2, 2), padding=(1, 1), bias=False)\n",
      "    (1): BatchNorm2d(42, eps=1e-05, momentum=0.1, affine=True, track_running_stats=True)\n",
      "    (2): PReLU(num_parameters=1)\n",
      "    (3): Conv2d(42, 2, kernel_size=(4, 4), stride=(2, 2), padding=(1, 1), bias=False)\n",
      "    (4): BatchNorm2d(2, eps=1e-05, momentum=0.1, affine=True, track_running_stats=True)\n",
      "    (5): LeakyReLU(negative_slope=0.01)\n",
      "  )\n",
      ") torch.Size([1, 1, 10, 10])\n"
     ]
    }
   ],
   "execution_count": 12
  },
  {
   "metadata": {},
   "cell_type": "code",
   "outputs": [],
   "execution_count": null,
   "source": "",
   "id": "19f548164d519291"
  }
 ],
 "metadata": {
  "kernelspec": {
   "display_name": "Python 3",
   "language": "python",
   "name": "python3"
  },
  "language_info": {
   "codemirror_mode": {
    "name": "ipython",
    "version": 2
   },
   "file_extension": ".py",
   "mimetype": "text/x-python",
   "name": "python",
   "nbconvert_exporter": "python",
   "pygments_lexer": "ipython2",
   "version": "2.7.6"
  }
 },
 "nbformat": 4,
 "nbformat_minor": 5
}
